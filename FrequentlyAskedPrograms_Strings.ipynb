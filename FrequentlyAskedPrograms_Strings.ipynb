{
 "cells":[
  {
   "cell_type":"markdown",
   "source":[
    "<h1><center> Frequently Asked Python Programs on String <\/center><\/h1>\n",
    "<center> A collection by <a href = \"https:\/\/www.linkedin.com\/in\/aniketanraje\/\"> Aniket Bhosale <\/a><\/center>"
   ],
   "attachments":{
    
   },
   "metadata":{
    "datalore":{
     "node_id":"piXwlicagx7KKCTlq6As6t",
     "type":"MD",
     "hide_input_from_viewers":true,
     "hide_output_from_viewers":true
    }
   }
  },
  {
   "cell_type":"code",
   "source":[
    "input_string = \"I am Sherlocked!\""
   ],
   "execution_count":6,
   "outputs":[
    
   ],
   "metadata":{
    "datalore":{
     "node_id":"Ga8kaUa61G9M8oSYsqwS47",
     "type":"CODE",
     "hide_input_from_viewers":false,
     "hide_output_from_viewers":false,
     "report_properties":{
      "rowId":"j3Wez8nrG0E5pLbIT3PTy2"
     }
    }
   }
  },
  {
   "cell_type":"code",
   "source":[
    "# 1. remove a character from a string \n",
    "input_string = input(\"Enter a string\")\n",
    "input_character = input(\"Enter character to be replaced\")\n",
    "print(input_string.replace(input_character, \"*\"))"
   ],
   "execution_count":4,
   "outputs":[
    {
     "name":"stdout",
     "text":[
      "Enter a string Aniket\n",
      "Enter character to be replaced A\n",
      "*niket\n"
     ],
     "output_type":"stream"
    }
   ],
   "metadata":{
    "datalore":{
     "node_id":"1aIx8mfDx1z2daoSBkMyRM",
     "type":"CODE",
     "hide_input_from_viewers":true,
     "hide_output_from_viewers":true
    }
   }
  },
  {
   "cell_type":"code",
   "source":[
    "# 2. count occurence of given substring in string \n",
    "substring = \"S\"\n",
    "print(input_string.lower().count(\"sherlock\"))"
   ],
   "execution_count":7,
   "outputs":[
    {
     "name":"stdout",
     "text":[
      "1\n"
     ],
     "output_type":"stream"
    }
   ],
   "metadata":{
    "datalore":{
     "node_id":"RRy808EssxqgigC9V7SQoU",
     "type":"CODE",
     "hide_input_from_viewers":false,
     "hide_output_from_viewers":false,
     "report_properties":{
      "rowId":"cORPcN2cBSswCxeZXIx3qW"
     }
    }
   }
  },
  {
   "cell_type":"code",
   "source":[
    "# 1. remove a character from a string \n",
    "input_string = input(\"Enter a string\")\n",
    "input_character = input(\"Enter character to be replaced\")\n",
    "print(input_string.replace(input_character, \"*\"))"
   ],
   "execution_count":8,
   "outputs":[
    {
     "name":"stdout",
     "text":[
      "Enter a string Sherlock\n",
      "Enter character to be replaced r\n",
      "She*lock\n"
     ],
     "output_type":"stream"
    }
   ],
   "metadata":{
    "datalore":{
     "node_id":"sEB8KYeh6n3iBTQokszLnD",
     "type":"CODE",
     "hide_input_from_viewers":false,
     "hide_output_from_viewers":false,
     "report_properties":{
      "rowId":"qoyPGBaMlfMy3J3T6WdIF3"
     }
    }
   }
  },
  {
   "cell_type":"code",
   "source":[
    
   ],
   "execution_count":null,
   "outputs":[
    
   ],
   "metadata":{
    "datalore":{
     "node_id":"5JckqCfXPgm229xY7A9YUI",
     "type":"CODE",
     "hide_input_from_viewers":false,
     "hide_output_from_viewers":false,
     "report_properties":{
      "rowId":"Vy4rSZs7hNqKXfVK24HWIO"
     }
    }
   }
  },
  {
   "cell_type":"code",
   "source":[
    "# 3. anagram checker \n",
    "# Anagram : a word or phrase that is made by arranging the letters of another word or phrase in a different order.\n",
    "\n",
    "def anagram_checker(string1, string2):\n",
    "  if sorted(string1.lower()) == sorted(string2.lower()):\n",
    "    return True\n",
    "  else: \n",
    "    return False\n",
    "\n",
    "string1 = input(\"Enter first string \")\n",
    "string2 = input(\"Enter second string \")\n",
    "print(anagram_checker(string1, string2))"
   ],
   "execution_count":null,
   "outputs":[
    {
     "name":"stdout",
     "text":[
      "Enter first string a\n",
      "Enter second string a\n",
      "True\n",
      "Enter first string a\n",
      "Enter second string a\n",
      "True\n"
     ],
     "output_type":"stream"
    }
   ],
   "metadata":{
    "datalore":{
     "node_id":"FGVies4rfXLwd4PaMNI6d7",
     "type":"CODE",
     "hide_input_from_viewers":false,
     "hide_output_from_viewers":false,
     "report_properties":{
      "rowId":"5j1hrdtpJoh3ZsVX1TAQVQ"
     }
    }
   }
  },
  {
   "cell_type":"code",
   "source":[
    "# 4. check if string is palindrome or not \n",
    "def check_palindrome(string):\n",
    "  if string.lower() == string.lower()[::-1]:\n",
    "    return True \n",
    "  else:\n",
    "    return False \n",
    "\n",
    "\n",
    "\n",
    "input_string = input(\"Enter string:\") \n",
    "print(check_palindrome(input_string))"
   ],
   "execution_count":null,
   "outputs":[
    {
     "name":"stdout",
     "text":[
      "Enter string:madam\n",
      "True\n",
      "Enter string:madam\n",
      "True\n"
     ],
     "output_type":"stream"
    }
   ],
   "metadata":{
    "datalore":{
     "node_id":"TRt7efJmtNdlHBMh8QURNU",
     "type":"CODE",
     "hide_input_from_viewers":false,
     "hide_output_from_viewers":false,
     "report_properties":{
      "rowId":"vglMv6rFHSC9IoEi2CSwjx"
     }
    }
   }
  },
  {
   "cell_type":"code",
   "source":[
    "# 5. check if given character is vowel or consonant \n",
    "\n",
    "vowels = [\"A\",\"E\",\"I\",\"O\",\"U\",\"a\",\"e\",\"i\",\"o\",\"u\"]\n",
    "if input(\"Enter character to be checked: \").lower() in vowels:\n",
    "  print(\"Vowel\")\n",
    "else: \n",
    "  print(\"Not vowel\")"
   ],
   "execution_count":null,
   "outputs":[
    {
     "name":"stdout",
     "text":[
      "Enter character to be checked: A\n",
      "Vowel\n"
     ],
     "output_type":"stream"
    }
   ],
   "metadata":{
    "datalore":{
     "node_id":"TSGid5LSstsw6qQNL1tlcZ",
     "type":"CODE",
     "hide_input_from_viewers":false,
     "hide_output_from_viewers":false,
     "report_properties":{
      "rowId":"ZM5ABVLnRpcnyyBgcE1w0n"
     }
    }
   }
  },
  {
   "cell_type":"code",
   "source":[
    "# 6. check if given character is digit or not \n",
    "character = \"111\"\n",
    "\n",
    "print(character.isdigit())\n",
    "print(character.isnumeric())"
   ],
   "execution_count":null,
   "outputs":[
    {
     "name":"stdout",
     "text":[
      "True\n",
      "True\n"
     ],
     "output_type":"stream"
    }
   ],
   "metadata":{
    "datalore":{
     "node_id":"aF9efam2fnPY6EGqGWoOjl",
     "type":"CODE",
     "hide_input_from_viewers":false,
     "hide_output_from_viewers":false,
     "report_properties":{
      "rowId":"Zekcr6KvHNf47YvUTiHnFt"
     }
    }
   }
  },
  {
   "cell_type":"code",
   "source":[
    "# 7. replace space in a string \n",
    "input_string.replace(\" \",\"\")"
   ],
   "execution_count":null,
   "outputs":[
    {
     "data":{
      "text\/plain":[
       "'IamSherlocked!'"
      ]
     },
     "metadata":{
      
     },
     "output_type":"display_data"
    }
   ],
   "metadata":{
    "datalore":{
     "node_id":"7ZkWO1sycdwC5WqKFVOwQs",
     "type":"CODE",
     "hide_input_from_viewers":false,
     "hide_output_from_viewers":false,
     "report_properties":{
      "rowId":"QvVwa85WBNL6FV40vfDlBt"
     }
    }
   }
  },
  {
   "cell_type":"code",
   "source":[
    "# 8. Replace a space with given character without replace \n",
    "given = \"*\"\n",
    "\n",
    "# solution \n",
    "temp = []\n",
    "for i in input_string:\n",
    "  if i == \" \":\n",
    "    temp.append(given)\n",
    "  else:\n",
    "    temp.append(i)\n",
    "\"\".join(temp)"
   ],
   "execution_count":null,
   "outputs":[
    {
     "data":{
      "text\/plain":[
       "'I*am*Sherlocked!'"
      ]
     },
     "metadata":{
      
     },
     "output_type":"display_data"
    }
   ],
   "metadata":{
    "datalore":{
     "node_id":"eAh49uz1EMQuHzSnW5kQA7",
     "type":"CODE",
     "hide_input_from_viewers":false,
     "hide_output_from_viewers":false,
     "report_properties":{
      "rowId":"ce8u0ZCsCrlCjtzdeetyYu"
     }
    }
   }
  },
  {
   "cell_type":"code",
   "source":[
    "# 9. replace string space with given character with replace method \n",
    "given = \"*\"\n",
    "input_string.replace(\" \", given)"
   ],
   "execution_count":null,
   "outputs":[
    {
     "data":{
      "text\/plain":[
       "'I*am*Sherlocked!'"
      ]
     },
     "metadata":{
      
     },
     "output_type":"display_data"
    }
   ],
   "metadata":{
    "datalore":{
     "node_id":"Ibgfou7slXSzlO2QptXUu9",
     "type":"CODE",
     "hide_input_from_viewers":false,
     "hide_output_from_viewers":false,
     "report_properties":{
      "rowId":"q03hwwQTPQ7XfohrMTSmXs"
     }
    }
   }
  },
  {
   "cell_type":"code",
   "source":[
    "# 10.  convert lower case character to upper case \n",
    "temp = list(input_string)\n",
    "t = []\n",
    "for i in temp: \n",
    "  if i.islower():\n",
    "    t.append(i.upper())\n",
    "  else: \n",
    "    t.append(i)\n",
    "print(\"\".join(t))"
   ],
   "execution_count":null,
   "outputs":[
    {
     "name":"stdout",
     "text":[
      "I AM SHERLOCKED!\n"
     ],
     "output_type":"stream"
    }
   ],
   "metadata":{
    "datalore":{
     "node_id":"iFkXKCabEsvOKKx5J3Qfy4",
     "type":"CODE",
     "hide_input_from_viewers":false,
     "hide_output_from_viewers":false,
     "report_properties":{
      "rowId":"tJWwoTJmTnL50tY8XxQGol"
     }
    }
   }
  },
  {
   "cell_type":"code",
   "source":[
    "# 11. Lowercase vowel to uppercase \n",
    "# given\n",
    "input_string = \"i am sherlocked!!\"\n",
    "# solution\n",
    "lowercase_vowels = [\"a\",\"e\",\"i\",\"o\",\"u\"]\n",
    "temp = []\n",
    "for i in input_string:\n",
    "  if i in lowercase_vowels:\n",
    "    temp.append(i.upper())\n",
    "  else:\n",
    "    temp.append(i)\n",
    "print(\"\".join(temp))"
   ],
   "execution_count":null,
   "outputs":[
    {
     "name":"stdout",
     "text":[
      "I Am shErlOckEd!!\n"
     ],
     "output_type":"stream"
    }
   ],
   "metadata":{
    "datalore":{
     "node_id":"0e374VOMCELJGLQCr7hAfY",
     "type":"CODE",
     "hide_input_from_viewers":false,
     "hide_output_from_viewers":false,
     "report_properties":{
      "rowId":"nKzR1dnbMLpNmtgpgmPMo1"
     }
    }
   }
  },
  {
   "cell_type":"code",
   "source":[
    "# 12. Python program to delete vowels in a given string.\n",
    "\n",
    "# solution\n",
    "vowels = [\"A\",\"E\",\"I\",\"O\",\"U\",\"a\",\"i\",\"e\",\"o\",\"u\"]\n",
    "temp = []\n",
    "for i in input_string:\n",
    "  if i in vowels:\n",
    "    pass \n",
    "  else:\n",
    "    temp.append(i)\n",
    "print(\"\".join(temp))"
   ],
   "execution_count":null,
   "outputs":[
    {
     "name":"stdout",
     "text":[
      " m shrlckd!!\n"
     ],
     "output_type":"stream"
    }
   ],
   "metadata":{
    "datalore":{
     "node_id":"Vx3GjQicBoBmQB9RDR7nIi",
     "type":"CODE",
     "hide_input_from_viewers":false,
     "hide_output_from_viewers":false,
     "report_properties":{
      "rowId":"aOocvyeAoXR4JpkS4b8VXS"
     }
    }
   }
  },
  {
   "cell_type":"code",
   "source":[
    "# 13. Python program to count Occurrence Of Vowels & Consonants in a String.\n",
    "\n",
    "# solution\n",
    "vowels = \"AEIOUaeiou\"\n",
    "vowels_count = 0\n",
    "consonant_count = 0\n",
    "\n",
    "for i in input_string:\n",
    "  if i.isalpha():\n",
    "    if i in vowels:\n",
    "      vowels_count = vowels_count + 1 \n",
    "    else:\n",
    "      consonant_count = consonant_count + 1\n",
    "    \n",
    "print(\"Vowels:\",vowels_count,\"consonant count:\",consonant_count)"
   ],
   "execution_count":null,
   "outputs":[
    {
     "name":"stdout",
     "text":[
      "Vowels: 5 consonant count: 8\n"
     ],
     "output_type":"stream"
    }
   ],
   "metadata":{
    "datalore":{
     "node_id":"MJbrRGDBoulQoEVYNOC4QS",
     "type":"CODE",
     "hide_input_from_viewers":false,
     "hide_output_from_viewers":false,
     "report_properties":{
      "rowId":"LH3N15cVvjZbsPxBD7ivgs"
     }
    }
   }
  },
  {
   "cell_type":"code",
   "source":[
    "# 14. Python program to print the highest frequency character in a String.\n",
    "# solution\n",
    "count_dict = {}\n",
    "\n",
    "for i in input_string:\n",
    "  if i in count_dict:\n",
    "    count_dict[i] = count_dict[i] + 1\n",
    "  else: \n",
    "    count_dict[i] = 1\n",
    "\n",
    "# print(count_dict)\n",
    "print(count_dict)\n",
    "max_count = max(count_dict, key = count_dict.get)\n",
    "print(\"Most occuring character: \",max_count)"
   ],
   "execution_count":null,
   "outputs":[
    {
     "name":"stdout",
     "text":[
      "{'i': 1, ' ': 2, 'a': 1, 'm': 1, 's': 1, 'h': 1, 'e': 2, 'r': 1, 'l': 1, 'o': 1, 'c': 1, 'k': 1, 'd': 1, '!': 2}\n",
      "Most occuring character:   \n"
     ],
     "output_type":"stream"
    }
   ],
   "metadata":{
    "datalore":{
     "node_id":"U8dDUL3YeWbmzRrqk0FBqS",
     "type":"CODE",
     "hide_input_from_viewers":false,
     "hide_output_from_viewers":false,
     "report_properties":{
      "rowId":"2mC6uj3sTFYSChU9J5Vg2y"
     }
    }
   }
  },
  {
   "cell_type":"code",
   "source":[
    "# 15. Replace first occurence of vowel with \"-\"\n",
    "# solution \n",
    "vowels = \"AEIOUaeiou\"\n",
    "temp = []"
   ],
   "execution_count":null,
   "outputs":[
    
   ],
   "metadata":{
    "datalore":{
     "node_id":"h7MNdTDjSRTKx2CfuKtnyM",
     "type":"CODE",
     "hide_input_from_viewers":false,
     "hide_output_from_viewers":false,
     "report_properties":{
      "rowId":"SJsDTmOt7BZz35cuSA3uXg"
     }
    }
   }
  },
  {
   "cell_type":"code",
   "source":[
    "# 16. Count characters, numbers and special characters\n",
    "# given\n",
    "input_string = \"I am Sherlocked!143\"\n",
    "\n",
    "# solution\n",
    "special_character = \"\"\"!\"#$%&'()*+,-.\/:;<=>?@[\\]^_`{|}~\"\"\"\n",
    "dict_count = {\"char\":0,\"num\":0,\"spe_char\":0,\"space\":0}\n",
    "for i in input_string:\n",
    "  if i.isalpha():\n",
    "    dict_count[\"char\"] = dict_count[\"char\"] + 1\n",
    "  if i in special_character:\n",
    "    dict_count[\"spe_char\"] = dict_count[\"spe_char\"] + 1\n",
    "  if i.isnumeric():\n",
    "    dict_count[\"num\"] = dict_count[\"num\"] + 1\n",
    "  if i.isspace():\n",
    "    dict_count[\"space\"] = dict_count[\"space\"] + 1\n",
    "\n",
    "print(dict_count)"
   ],
   "execution_count":null,
   "outputs":[
    {
     "name":"stdout",
     "text":[
      "{'char': 13, 'num': 3, 'spe_char': 1, 'space': 2}\n"
     ],
     "output_type":"stream"
    }
   ],
   "metadata":{
    "datalore":{
     "node_id":"13sWN5lvp6YeJ4a3kdtO3s",
     "type":"CODE",
     "hide_input_from_viewers":false,
     "hide_output_from_viewers":false,
     "report_properties":{
      "rowId":"QhXkDEqYTOjjfA2KGlFcDG"
     }
    }
   }
  },
  {
   "cell_type":"code",
   "source":[
    "# 17 separate string character \n",
    "list(input_string)"
   ],
   "execution_count":null,
   "outputs":[
    {
     "data":{
      "text\/plain":[
       "['I',\n",
       " ' ',\n",
       " 'a',\n",
       " 'm',\n",
       " ' ',\n",
       " 'S',\n",
       " 'h',\n",
       " 'e',\n",
       " 'r',\n",
       " 'l',\n",
       " 'o',\n",
       " 'c',\n",
       " 'k',\n",
       " 'e',\n",
       " 'd',\n",
       " '!',\n",
       " '1',\n",
       " '4',\n",
       " '3']"
      ]
     },
     "metadata":{
      
     },
     "output_type":"display_data"
    }
   ],
   "metadata":{
    "datalore":{
     "node_id":"xml3N2PaME3hBtrbYiYfiI",
     "type":"CODE",
     "hide_input_from_viewers":false,
     "hide_output_from_viewers":false,
     "report_properties":{
      "rowId":"i8RAcJi8f5702tM5pAvh17"
     }
    }
   }
  },
  {
   "cell_type":"code",
   "source":[
    "# 18. remove blank space from string \n",
    "#solution \n",
    "temp = []\n",
    "for i in input_string:\n",
    "  if i.isspace():\n",
    "    pass \n",
    "  else:\n",
    "    temp.append(i)\n",
    "print(\"\".join(temp))"
   ],
   "execution_count":null,
   "outputs":[
    {
     "name":"stdout",
     "text":[
      "IamSherlocked!143\n"
     ],
     "output_type":"stream"
    }
   ],
   "metadata":{
    "datalore":{
     "node_id":"FSqj5HZ8srEjWvIbVBKJev",
     "type":"CODE",
     "hide_input_from_viewers":false,
     "hide_output_from_viewers":false,
     "report_properties":{
      "rowId":"x2EjQUZXc3pycKCHY5X6ON"
     }
    }
   }
  },
  {
   "cell_type":"code",
   "source":[
    "# 19. concatenate two strings with join \n",
    "temp = list(input_string)\n",
    "\"\".join([input_string,input_string[::-1]])"
   ],
   "execution_count":null,
   "outputs":[
    {
     "data":{
      "text\/plain":[
       "'I am Sherlocked!!dekcolrehS ma I'"
      ]
     },
     "metadata":{
      
     },
     "output_type":"display_data"
    }
   ],
   "metadata":{
    "datalore":{
     "node_id":"s1GZ9ambaV2qDffaEgqnso",
     "type":"CODE",
     "hide_input_from_viewers":false,
     "hide_output_from_viewers":false,
     "report_properties":{
      "rowId":"8NWLCkKYYsvCZUlfQc3PjZ"
     }
    }
   }
  },
  {
   "cell_type":"code",
   "source":[
    " # 20. concatenate string without join method\n",
    "input_string + input_string"
   ],
   "execution_count":null,
   "outputs":[
    {
     "data":{
      "text\/plain":[
       "'I am Sherlocked!I am Sherlocked!'"
      ]
     },
     "metadata":{
      
     },
     "output_type":"display_data"
    }
   ],
   "metadata":{
    "datalore":{
     "node_id":"h3fb81YYLOioJqTHA3ALPF",
     "type":"CODE",
     "hide_input_from_viewers":false,
     "hide_output_from_viewers":false,
     "report_properties":{
      "rowId":"A8u7BxDedQrgKAxtdXaeqm"
     }
    }
   }
  },
  {
   "cell_type":"code",
   "source":[
    "# 21. remove repeated character from a string\n",
    "\"\".join(set(input_string)) "
   ],
   "execution_count":null,
   "outputs":[
    {
     "data":{
      "text\/plain":[
       "'!ocaeSrIhdlkm '"
      ]
     },
     "metadata":{
      
     },
     "output_type":"display_data"
    }
   ],
   "metadata":{
    "datalore":{
     "node_id":"eFg5www80A3INGmMEpN58i",
     "type":"CODE",
     "hide_input_from_viewers":false,
     "hide_output_from_viewers":false,
     "report_properties":{
      "rowId":"S8Ep18pvZzu1IcuYqaMKYF"
     }
    }
   }
  },
  {
   "cell_type":"code",
   "source":[
    "# 22. calculate sum of numbers in string\n",
    "# given\n",
    "input_string = \"hello 123\"\n",
    "#solution \n",
    "numbers = []\n",
    "for i in input_string:\n",
    "  if i.isnumeric():\n",
    "    numbers.append(int(i))\n",
    "sum(numbers)"
   ],
   "execution_count":null,
   "outputs":[
    {
     "data":{
      "text\/plain":[
       "6"
      ]
     },
     "metadata":{
      
     },
     "output_type":"display_data"
    }
   ],
   "metadata":{
    "datalore":{
     "node_id":"jjntFloo89bJZccAnY4j56",
     "type":"CODE",
     "hide_input_from_viewers":false,
     "hide_output_from_viewers":false,
     "report_properties":{
      "rowId":"J8GvH9OGhLyus6vyQvBAvQ"
     }
    }
   }
  },
  {
   "cell_type":"code",
   "source":[
    "# 23. print all non-repeating characters \n",
    "print(\"printing non repeating characters\")\n",
    "dict_char_count = {}\n",
    "for i in input_string:\n",
    "  if i in dict_char_count: \n",
    "    dict_char_count[i] = dict_char_count[i] + 1\n",
    "  else:\n",
    "    dict_char_count[i]=1\n",
    "for i in dict_char_count:\n",
    "  if dict_char_count[i] > 1:\n",
    "    pass \n",
    "  else:\n",
    "    print(i,end = \" \")"
   ],
   "execution_count":null,
   "outputs":[
    {
     "name":"stdout",
     "text":[
      "printing non repeating characters\n",
      "I a m S h r l o c k d ! "
     ],
     "output_type":"stream"
    }
   ],
   "metadata":{
    "datalore":{
     "node_id":"d5G1LrXvZmaQBBUCdXiONu",
     "type":"CODE",
     "hide_input_from_viewers":false,
     "hide_output_from_viewers":false,
     "report_properties":{
      "rowId":"sRi0t67JfL9HRgqRzxecFQ"
     }
    }
   }
  },
  {
   "cell_type":"code",
   "source":[
    "# 24. copy one string into another \n",
    "input_string2 = \"Irene Adler\"\n",
    "print(id(input_string))\n",
    "print(id(input_string2))\n",
    "str3 = input_string\n",
    "print(id(str3))\n",
    "str4 = input_string[:]\n",
    "print(id(str4))\n",
    "str3 = \"Sherlock\"\n",
    "print(id(str3))\n",
    "print(id(str4))\n",
    "str3 = input_string\n",
    "print(id(str3))\n",
    "# id of the different string variable remains the same if the string is same "
   ],
   "execution_count":null,
   "outputs":[
    {
     "name":"stdout",
     "text":[
      "139640640428752\n",
      "139640430617520\n",
      "139640640428752\n",
      "139640640428752\n",
      "139640430144368\n",
      "139640640428752\n",
      "139640640428752\n"
     ],
     "output_type":"stream"
    }
   ],
   "metadata":{
    "datalore":{
     "node_id":"6zImvpIqD7HCgBAowpQc8q",
     "type":"CODE",
     "hide_input_from_viewers":false,
     "hide_output_from_viewers":false,
     "report_properties":{
      "rowId":"38hNRtp4LU6CWXryJt1j9a"
     }
    }
   }
  },
  {
   "cell_type":"code",
   "source":[
    "# 25. Sort characters in ascending order \n",
    "print([i for i in sorted(input_string)])"
   ],
   "execution_count":null,
   "outputs":[
    {
     "name":"stdout",
     "text":[
      "[' ', ' ', '!', 'I', 'S', 'a', 'c', 'd', 'e', 'e', 'h', 'k', 'l', 'm', 'o', 'r']\n"
     ],
     "output_type":"stream"
    }
   ],
   "metadata":{
    "datalore":{
     "node_id":"VKEXVeJvLwGGsFJuURyb8E",
     "type":"CODE",
     "hide_input_from_viewers":false,
     "hide_output_from_viewers":false,
     "report_properties":{
      "rowId":"IJ6ASmYtq5bAT0eD0wyV8q"
     }
    }
   }
  },
  {
   "cell_type":"code",
   "source":[
    "# 26. Sort characters in descending order \n",
    "\n",
    "print( [ i for i in sorted(input_string, reverse = True)])"
   ],
   "execution_count":null,
   "outputs":[
    {
     "name":"stdout",
     "text":[
      "['r', 'o', 'm', 'l', 'k', 'h', 'e', 'e', 'd', 'c', 'a', 'S', 'I', '!', ' ', ' ']\n"
     ],
     "output_type":"stream"
    }
   ],
   "metadata":{
    "datalore":{
     "node_id":"p1Cuu3PFkL7FbIXLEMt05C",
     "type":"CODE",
     "hide_input_from_viewers":false,
     "hide_output_from_viewers":false,
     "report_properties":{
      "rowId":"9RzMsHkhkEc0ZTlLKeNuIb"
     }
    }
   }
  },
  {
   "cell_type":"code",
   "source":[
    
   ],
   "execution_count":null,
   "outputs":[
    
   ],
   "metadata":{
    "datalore":{
     "node_id":"Yqg5MfGKJ5vcOzdI07wB5e",
     "type":"CODE",
     "hide_input_from_viewers":false,
     "hide_output_from_viewers":false,
     "report_properties":{
      "rowId":"T5FRGaxzomHYMlLK2EJj3s"
     }
    }
   }
  }
 ],
 "metadata":{
  "kernelspec":{
   "display_name":"Python",
   "language":"python",
   "name":"python"
  },
  "datalore":{
   "computation_mode":"JUPYTER",
   "package_manager":"pip",
   "base_environment":"default",
   "packages":[
    
   ],
   "report_row_ids":[
    "j3Wez8nrG0E5pLbIT3PTy2",
    "cORPcN2cBSswCxeZXIx3qW",
    "qoyPGBaMlfMy3J3T6WdIF3",
    "Vy4rSZs7hNqKXfVK24HWIO",
    "5j1hrdtpJoh3ZsVX1TAQVQ",
    "vglMv6rFHSC9IoEi2CSwjx",
    "ZM5ABVLnRpcnyyBgcE1w0n",
    "Zekcr6KvHNf47YvUTiHnFt",
    "QvVwa85WBNL6FV40vfDlBt",
    "ce8u0ZCsCrlCjtzdeetyYu",
    "q03hwwQTPQ7XfohrMTSmXs",
    "tJWwoTJmTnL50tY8XxQGol",
    "nKzR1dnbMLpNmtgpgmPMo1",
    "aOocvyeAoXR4JpkS4b8VXS",
    "LH3N15cVvjZbsPxBD7ivgs",
    "2mC6uj3sTFYSChU9J5Vg2y",
    "SJsDTmOt7BZz35cuSA3uXg",
    "QhXkDEqYTOjjfA2KGlFcDG",
    "i8RAcJi8f5702tM5pAvh17",
    "x2EjQUZXc3pycKCHY5X6ON",
    "8NWLCkKYYsvCZUlfQc3PjZ",
    "A8u7BxDedQrgKAxtdXaeqm",
    "S8Ep18pvZzu1IcuYqaMKYF",
    "J8GvH9OGhLyus6vyQvBAvQ",
    "sRi0t67JfL9HRgqRzxecFQ",
    "38hNRtp4LU6CWXryJt1j9a",
    "IJ6ASmYtq5bAT0eD0wyV8q",
    "9RzMsHkhkEc0ZTlLKeNuIb",
    "T5FRGaxzomHYMlLK2EJj3s"
   ],
   "version":2
  }
 },
 "nbformat":4,
 "nbformat_minor":4
}